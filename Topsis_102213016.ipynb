{
  "nbformat": 4,
  "nbformat_minor": 0,
  "metadata": {
    "colab": {
      "provenance": []
    },
    "kernelspec": {
      "name": "python3",
      "display_name": "Python 3"
    },
    "language_info": {
      "name": "python"
    }
  },
  "cells": [
    {
      "cell_type": "code",
      "source": [
        "import numpy as np\n",
        "import pandas as pd\n",
        "import matplotlib.pyplot as plt\n",
        "from sklearn.preprocessing import MinMaxScaler"
      ],
      "metadata": {
        "id": "FMn5VrpYlTMC"
      },
      "execution_count": 28,
      "outputs": []
    },
    {
      "cell_type": "code",
      "source": [
        "models = ['Llama-2', 'Falcon', 'BLOOM', 'T5', 'BART', 'DeepSeek', 'Mistral']\n",
        "criteria = ['Perplexity', 'BLEU Score', 'Inference Time', 'Model Size', 'Training Data']\n",
        "weights = np.array([0.3, 0.2, 0.2, 0.15, 0.15])\n",
        "beneficial = [False, True, False, False, True]"
      ],
      "metadata": {
        "id": "GQexup34lX3B"
      },
      "execution_count": 29,
      "outputs": []
    },
    {
      "cell_type": "code",
      "source": [
        "data = np.array([\n",
        "    [12, 0.80, 1.0, 130, 400],\n",
        "    [15, 0.78, 0.9, 90, 350],\n",
        "    [18, 0.75, 1.5, 180, 550],\n",
        "    [14, 0.82, 0.8, 110, 370],\n",
        "    [16, 0.79, 1.1, 140, 420],\n",
        "    [13, 0.83, 0.95, 120, 390],\n",
        "    [11, 0.84, 1.05, 125, 410]\n",
        "])\n",
        "\n",
        "data"
      ],
      "metadata": {
        "colab": {
          "base_uri": "https://localhost:8080/"
        },
        "id": "5wAus_6UldNK",
        "outputId": "e82a72a0-e1e4-4462-8d9f-41d819221a37"
      },
      "execution_count": 30,
      "outputs": [
        {
          "output_type": "execute_result",
          "data": {
            "text/plain": [
              "array([[ 12.  ,   0.8 ,   1.  , 130.  , 400.  ],\n",
              "       [ 15.  ,   0.78,   0.9 ,  90.  , 350.  ],\n",
              "       [ 18.  ,   0.75,   1.5 , 180.  , 550.  ],\n",
              "       [ 14.  ,   0.82,   0.8 , 110.  , 370.  ],\n",
              "       [ 16.  ,   0.79,   1.1 , 140.  , 420.  ],\n",
              "       [ 13.  ,   0.83,   0.95, 120.  , 390.  ],\n",
              "       [ 11.  ,   0.84,   1.05, 125.  , 410.  ]])"
            ]
          },
          "metadata": {},
          "execution_count": 30
        }
      ]
    },
    {
      "cell_type": "code",
      "source": [
        "scaler = MinMaxScaler()\n",
        "norm_data = scaler.fit_transform(data)\n",
        "\n",
        "print(norm_data)"
      ],
      "metadata": {
        "colab": {
          "base_uri": "https://localhost:8080/"
        },
        "id": "iBmBm5mDlgW7",
        "outputId": "d40d6d4e-604c-464a-aca4-af26d3cc4d4b"
      },
      "execution_count": 31,
      "outputs": [
        {
          "output_type": "stream",
          "name": "stdout",
          "text": [
            "[[0.14285714 0.55555556 0.28571429 0.44444444 0.25      ]\n",
            " [0.57142857 0.33333333 0.14285714 0.         0.        ]\n",
            " [1.         0.         1.         1.         1.        ]\n",
            " [0.42857143 0.77777778 0.         0.22222222 0.1       ]\n",
            " [0.71428571 0.44444444 0.42857143 0.55555556 0.35      ]\n",
            " [0.28571429 0.88888889 0.21428571 0.33333333 0.2       ]\n",
            " [0.         1.         0.35714286 0.38888889 0.3       ]]\n"
          ]
        }
      ]
    },
    {
      "cell_type": "code",
      "source": [
        "for i in range(len(criteria)):\n",
        "    if not beneficial[i]:\n",
        "        norm_data[:, i] = 1 - norm_data[:, i]"
      ],
      "metadata": {
        "id": "YLDweL-allhz"
      },
      "execution_count": 32,
      "outputs": []
    },
    {
      "cell_type": "code",
      "source": [
        "weighted_matrix = norm_data * weights\n",
        "print(weighted_matrix)"
      ],
      "metadata": {
        "colab": {
          "base_uri": "https://localhost:8080/"
        },
        "id": "tZmgBzfilpVT",
        "outputId": "87c33262-f6c4-4f0a-a796-06535ad5f3ef"
      },
      "execution_count": 33,
      "outputs": [
        {
          "output_type": "stream",
          "name": "stdout",
          "text": [
            "[[2.57142857e-01 1.11111111e-01 1.42857143e-01 8.33333333e-02\n",
            "  3.75000000e-02]\n",
            " [1.28571429e-01 6.66666667e-02 1.71428571e-01 1.50000000e-01\n",
            "  0.00000000e+00]\n",
            " [6.66133815e-17 0.00000000e+00 4.44089210e-17 0.00000000e+00\n",
            "  1.50000000e-01]\n",
            " [1.71428571e-01 1.55555556e-01 2.00000000e-01 1.16666667e-01\n",
            "  1.50000000e-02]\n",
            " [8.57142857e-02 8.88888889e-02 1.14285714e-01 6.66666667e-02\n",
            "  5.25000000e-02]\n",
            " [2.14285714e-01 1.77777778e-01 1.57142857e-01 1.00000000e-01\n",
            "  3.00000000e-02]\n",
            " [3.00000000e-01 2.00000000e-01 1.28571429e-01 9.16666667e-02\n",
            "  4.50000000e-02]]\n"
          ]
        }
      ]
    },
    {
      "cell_type": "code",
      "source": [
        "ideal_best = np.max(weighted_matrix, axis=0)\n",
        "ideal_worst = np.min(weighted_matrix, axis=0)\n",
        "print(ideal_best)\n",
        "print(ideal_worst)"
      ],
      "metadata": {
        "colab": {
          "base_uri": "https://localhost:8080/"
        },
        "id": "rjJc7jP0m1B9",
        "outputId": "79f4af9d-bfbf-4d99-e00f-ee632890e777"
      },
      "execution_count": 34,
      "outputs": [
        {
          "output_type": "stream",
          "name": "stdout",
          "text": [
            "[0.3  0.2  0.2  0.15 0.15]\n",
            "[6.66133815e-17 0.00000000e+00 4.44089210e-17 0.00000000e+00\n",
            " 0.00000000e+00]\n"
          ]
        }
      ]
    },
    {
      "cell_type": "code",
      "source": [
        "distance_best = np.sqrt(np.sum((weighted_matrix - ideal_best) ** 2, axis=1))\n",
        "distance_worst = np.sqrt(np.sum((weighted_matrix - ideal_worst) ** 2, axis=1))\n",
        "\n",
        "print(distance_best)\n",
        "print(distance_worst)"
      ],
      "metadata": {
        "colab": {
          "base_uri": "https://localhost:8080/"
        },
        "id": "93K8Qh3vnA89",
        "outputId": "25638cf1-fb62-4315-8bb3-ed8092299d68"
      },
      "execution_count": 35,
      "outputs": [
        {
          "output_type": "stream",
          "name": "stdout",
          "text": [
            "[0.17350496 0.2654842  0.43874822 0.19453029 0.2864641  0.16302607\n",
            " 0.13974913]\n",
            "[0.32745532 0.26993112 0.15       0.32775204 0.18844122 0.33632898\n",
            " 0.39617974]\n"
          ]
        }
      ]
    },
    {
      "cell_type": "code",
      "source": [
        "topsis_score = distance_worst / (distance_best + distance_worst)\n",
        "topsis_score"
      ],
      "metadata": {
        "colab": {
          "base_uri": "https://localhost:8080/"
        },
        "id": "zzboms7enS2S",
        "outputId": "86adc511-83c7-4347-fcaa-0f470dfd344f"
      },
      "execution_count": 36,
      "outputs": [
        {
          "output_type": "execute_result",
          "data": {
            "text/plain": [
              "array([0.65365526, 0.50415278, 0.25477784, 0.62753806, 0.39679745,\n",
              "       0.67352674, 0.73923941])"
            ]
          },
          "metadata": {},
          "execution_count": 36
        }
      ]
    },
    {
      "cell_type": "code",
      "source": [
        "ranking = np.argsort(topsis_score)[::-1]\n",
        "ranked_models = [models[i] for i in ranking]\n",
        "ranked_scores = topsis_score[ranking]\n",
        "\n",
        "ranked_models"
      ],
      "metadata": {
        "colab": {
          "base_uri": "https://localhost:8080/"
        },
        "id": "tcAGRB4ynXeK",
        "outputId": "5397b9b3-44d4-44ec-d8d4-fe46aa56f885"
      },
      "execution_count": 37,
      "outputs": [
        {
          "output_type": "execute_result",
          "data": {
            "text/plain": [
              "['Mistral', 'DeepSeek', 'Llama-2', 'T5', 'Falcon', 'BART', 'BLOOM']"
            ]
          },
          "metadata": {},
          "execution_count": 37
        }
      ]
    },
    {
      "cell_type": "code",
      "source": [
        "result_df = pd.DataFrame({'Model': ranked_models, 'TOPSIS Score': ranked_scores, 'Rank': range(1, len(models) + 1)})\n",
        "print(result_df)"
      ],
      "metadata": {
        "colab": {
          "base_uri": "https://localhost:8080/"
        },
        "id": "biahPwZgnhO8",
        "outputId": "568ee38a-b8c6-45b3-e92f-185399b4e0f5"
      },
      "execution_count": 38,
      "outputs": [
        {
          "output_type": "stream",
          "name": "stdout",
          "text": [
            "      Model  TOPSIS Score  Rank\n",
            "0   Mistral      0.739239     1\n",
            "1  DeepSeek      0.673527     2\n",
            "2   Llama-2      0.653655     3\n",
            "3        T5      0.627538     4\n",
            "4    Falcon      0.504153     5\n",
            "5      BART      0.396797     6\n",
            "6     BLOOM      0.254778     7\n"
          ]
        }
      ]
    },
    {
      "cell_type": "code",
      "source": [
        "plt.figure(figsize=(10, 5))\n",
        "plt.barh(result_df['Model'], result_df['TOPSIS Score'], color='royalblue')\n",
        "plt.xlabel('TOPSIS Score')\n",
        "plt.ylabel('Model')\n",
        "plt.title('Ranking of Pre-Trained Models for Text Generation')\n",
        "plt.gca().invert_yaxis()\n",
        "plt.show()"
      ],
      "metadata": {
        "colab": {
          "base_uri": "https://localhost:8080/",
          "height": 487
        },
        "id": "KKHTIXrlnj2g",
        "outputId": "bd2f2726-fe65-47bc-ad24-2049377c56cf"
      },
      "execution_count": 39,
      "outputs": [
        {
          "output_type": "display_data",
          "data": {
            "text/plain": [
              "<Figure size 1000x500 with 1 Axes>"
            ],
            "image/png": "[encoded data removed]"
          },
          "metadata": {}
        }
      ]
    }
  ]
}